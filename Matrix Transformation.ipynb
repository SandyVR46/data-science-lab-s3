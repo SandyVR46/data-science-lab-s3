{
 "cells": [
  {
   "cell_type": "code",
   "execution_count": 1,
   "id": "e2f4583c",
   "metadata": {},
   "outputs": [
    {
     "name": "stdout",
     "output_type": "stream",
     "text": [
      "Original x: \n",
      "[[1 2]\n",
      " [3 4]] \n",
      "\n",
      "Transpose of x: \n",
      "[[1 3]\n",
      " [2 4]]\n"
     ]
    }
   ],
   "source": [
    "import numpy as np\n",
    "\n",
    "x = np.array([[1,2], [3,4]])\n",
    "print(\"Original x: \\n%s \" %x)    # Prints \"[[1 2]\n",
    "                                 #         [3 4]]\"\n",
    "print(\"\\nTranspose of x: \\n%s\" %x.T)  # Prints \"[[1 3]\n",
    "                                      #          [2 4]]\"\n"
   ]
  },
  {
   "cell_type": "code",
   "execution_count": null,
   "id": "fb44f327",
   "metadata": {},
   "outputs": [],
   "source": []
  }
 ],
 "metadata": {
  "kernelspec": {
   "display_name": "Python 3",
   "language": "python",
   "name": "python3"
  },
  "language_info": {
   "codemirror_mode": {
    "name": "ipython",
    "version": 3
   },
   "file_extension": ".py",
   "mimetype": "text/x-python",
   "name": "python",
   "nbconvert_exporter": "python",
   "pygments_lexer": "ipython3",
   "version": "3.8.8"
  }
 },
 "nbformat": 4,
 "nbformat_minor": 5
}
