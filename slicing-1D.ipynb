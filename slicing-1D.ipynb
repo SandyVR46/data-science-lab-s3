{
 "cells": [
  {
   "cell_type": "code",
   "execution_count": 9,
   "id": "ef91eea7",
   "metadata": {},
   "outputs": [
    {
     "name": "stdout",
     "output_type": "stream",
     "text": [
      "original array : [5 2 7 3 9]\n",
      "data from index 1 to index less than 3:  [2 7]\n",
      "first two data:  [5 2]\n",
      "last two data:  [3 9]\n"
     ]
    }
   ],
   "source": [
    "import numpy as np\n",
    "data = np.array([5, 2, 7, 3, 9])\n",
    "print('original array :',data[:])\n",
    "print('data from index 1 to index less than 3: ', data[1:3])\n",
    "print('first two data: ',data[:2])\n",
    "print('last two data: ',data[-2:])"
   ]
  },
  {
   "cell_type": "code",
   "execution_count": null,
   "id": "960f5c06",
   "metadata": {},
   "outputs": [],
   "source": []
  }
 ],
 "metadata": {
  "kernelspec": {
   "display_name": "Python 3 (ipykernel)",
   "language": "python",
   "name": "python3"
  },
  "language_info": {
   "codemirror_mode": {
    "name": "ipython",
    "version": 3
   },
   "file_extension": ".py",
   "mimetype": "text/x-python",
   "name": "python",
   "nbconvert_exporter": "python",
   "pygments_lexer": "ipython3",
   "version": "3.10.1"
  }
 },
 "nbformat": 4,
 "nbformat_minor": 5
}
