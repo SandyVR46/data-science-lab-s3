{
 "cells": [
  {
   "cell_type": "code",
   "execution_count": 1,
   "id": "88612454",
   "metadata": {},
   "outputs": [
    {
     "name": "stdout",
     "output_type": "stream",
     "text": [
      "A: \n",
      "[[1 2]\n",
      " [3 4]\n",
      " [5 6]]\n",
      "\n",
      "U: \n",
      "[[-0.2298477   0.88346102  0.40824829]\n",
      " [-0.52474482  0.24078249 -0.81649658]\n",
      " [-0.81964194 -0.40189603  0.40824829]]\n",
      "\n",
      "s: \n",
      " [9.52551809 0.51430058]\n",
      "\n",
      "V^T: \n",
      " [[-0.61962948 -0.78489445]\n",
      " [-0.78489445  0.61962948]]\n"
     ]
    }
   ],
   "source": [
    "# Singular-value decomposition\n",
    "from numpy import array\n",
    "from scipy.linalg import svd\n",
    "# define a matrix\n",
    "A = array([[1, 2], [3, 4], [5, 6]])\n",
    "print(\"A: \\n%s\" %A)\n",
    "# SVD\n",
    "U, s, VT = svd(A)\n",
    "print(\"\\nU: \\n%s\" %U)\n",
    "print(\"\\ns: \\n %s\" %s)\n",
    "print(\"\\nV^T: \\n %s\" %VT)"
   ]
  },
  {
   "cell_type": "code",
   "execution_count": null,
   "id": "e70355ec",
   "metadata": {},
   "outputs": [],
   "source": []
  }
 ],
 "metadata": {
  "kernelspec": {
   "display_name": "Python 3",
   "language": "python",
   "name": "python3"
  },
  "language_info": {
   "codemirror_mode": {
    "name": "ipython",
    "version": 3
   },
   "file_extension": ".py",
   "mimetype": "text/x-python",
   "name": "python",
   "nbconvert_exporter": "python",
   "pygments_lexer": "ipython3",
   "version": "3.8.8"
  }
 },
 "nbformat": 4,
 "nbformat_minor": 5
}
