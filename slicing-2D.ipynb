{
 "cells": [
  {
   "cell_type": "code",
   "execution_count": 13,
   "id": "9ad8681c",
   "metadata": {},
   "outputs": [
    {
     "name": "stdout",
     "output_type": "stream",
     "text": [
      "2D array:\n",
      "[[ 1  2  3  4]\n",
      " [ 5  6  7  8]\n",
      " [ 9 10 11 12]]\n",
      "slice consist of second row all columns:  [[5 6 7 8]]\n",
      "slice consists of second row second column:  [[6]]\n",
      "slice consist of two rows first [1,2] and second[5,6]: \n",
      "[[1 2]\n",
      " [5 6]]\n",
      "slice consist of two rows first [2,3] and second[6,7]: \n",
      "[[2 3]\n",
      " [6 7]]\n",
      "slice consist of two rows first [7,8] and second[11,12]: \n",
      "[[ 7  8]\n",
      " [11 12]]\n"
     ]
    }
   ],
   "source": [
    "import numpy as np\n",
    "a = np.array([[1, 2, 3, 4],[5, 6, 7, 8],[9, 10, 11, 12]])\n",
    "print('2D array:')\n",
    "print(a)\n",
    "\n",
    "b = a[1:2,0:4]\n",
    "print('slice consist of second row all columns: ', b)\n",
    "\n",
    "b = a[1:2,1:2]\n",
    "print('slice consists of second row second column: ', b)\n",
    "\n",
    "b= a[:2, 0:2]\n",
    "print('slice consist of two rows first [1,2] and second[5,6]: ') \n",
    "print(b)\n",
    "\n",
    "b= a[:2, 1:3]\n",
    "print('slice consist of two rows first [2,3] and second[6,7]: ') \n",
    "print(b)\n",
    "\n",
    "b= a[1:3, 2:4]\n",
    "print('slice consist of two rows first [7,8] and second[11,12]: ') \n",
    "print(b)"
   ]
  },
  {
   "cell_type": "code",
   "execution_count": null,
   "id": "a39c6b73",
   "metadata": {},
   "outputs": [],
   "source": []
  }
 ],
 "metadata": {
  "kernelspec": {
   "display_name": "Python 3 (ipykernel)",
   "language": "python",
   "name": "python3"
  },
  "language_info": {
   "codemirror_mode": {
    "name": "ipython",
    "version": 3
   },
   "file_extension": ".py",
   "mimetype": "text/x-python",
   "name": "python",
   "nbconvert_exporter": "python",
   "pygments_lexer": "ipython3",
   "version": "3.10.1"
  }
 },
 "nbformat": 4,
 "nbformat_minor": 5
}
